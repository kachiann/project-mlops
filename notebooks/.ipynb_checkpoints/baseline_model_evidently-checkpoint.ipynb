{
 "cells": [
  {
   "cell_type": "markdown",
   "id": "d6c61f7a-d0e7-4541-805a-ddfc1b5d6b45",
   "metadata": {},
   "source": [
    "## Baseline model with monitoring"
   ]
  },
  {
   "cell_type": "code",
   "execution_count": null,
   "id": "d2abb691-1f6e-4fb5-8751-e0a99ade8d88",
   "metadata": {},
   "outputs": [],
   "source": [
    "import os\n",
    "import pandas as pd\n",
    "import pickle\n",
    "from sklearn.model_selection import train_test_split\n",
    "from sklearn.linear_model import LinearRegression\n",
    "from sklearn.metrics import r2_score, mean_absolute_error"
   ]
  },
  {
   "cell_type": "code",
   "execution_count": null,
   "id": "fb1ef92e-6207-4c9f-8560-4a080f1fb170",
   "metadata": {},
   "outputs": [],
   "source": [
    "from evidently import ColumnMapping\n",
    "from evidently.report import Report\n",
    "from evidently.metrics import ColumnDriftMetric, DatasetDriftMetric, DatasetMissingValuesMetric, DatasetCorrelationsMetric"
   ]
  },
  {
   "cell_type": "code",
   "execution_count": null,
   "id": "98a1b103-152d-49d6-95ff-e4cb7e850bdd",
   "metadata": {},
   "outputs": [],
   "source": [
    "from joblib import load, dump\n",
    "from tqdm import tqdm"
   ]
  },
  {
   "cell_type": "code",
   "execution_count": null,
   "id": "00ebd89a-c069-49a8-b9d2-33ef8f36f2cc",
   "metadata": {},
   "outputs": [],
   "source": [
    "dataset_path = os.path.abspath('data/hour.csv')"
   ]
  },
  {
   "cell_type": "code",
   "execution_count": null,
   "id": "a8a23c07-6bce-4fe0-aec1-2021e8827d15",
   "metadata": {},
   "outputs": [],
   "source": [
    "df = pd.read_csv(dataset_path)\n",
    "df.head()"
   ]
  },
  {
   "cell_type": "code",
   "execution_count": null,
   "id": "ed59f686-cab0-4e58-8cc5-1c37588d76d3",
   "metadata": {},
   "outputs": [],
   "source": [
    "df.describe().T"
   ]
  },
  {
   "cell_type": "code",
   "execution_count": null,
   "id": "2c0133c4-69a0-4782-bf3c-dea55d6589a1",
   "metadata": {},
   "outputs": [],
   "source": [
    "features = ['season', 'holiday', 'workingday', 'weathersit', 'temp', 'atemp', \n",
    "                'hum', 'windspeed', 'hr', 'mnth', 'yr']"
   ]
  },
  {
   "cell_type": "code",
   "execution_count": null,
   "id": "920a3a96-0b74-45ef-8846-241b5f6c2979",
   "metadata": {},
   "outputs": [],
   "source": [
    "df.shape"
   ]
  },
  {
   "cell_type": "code",
   "execution_count": null,
   "id": "c64d0a12-b777-4548-bec0-ee45421fbb44",
   "metadata": {},
   "outputs": [],
   "source": [
    "X = df[features]\n",
    "y = df['cnt']\n",
    "X.shape"
   ]
  },
  {
   "cell_type": "code",
   "execution_count": null,
   "id": "0ecc4b41-e1ac-4313-b0fb-a984f3beb644",
   "metadata": {},
   "outputs": [],
   "source": [
    "model = LinearRegression()"
   ]
  },
  {
   "cell_type": "code",
   "execution_count": null,
   "id": "4df10bb2-3167-4981-a7ce-10031fe4b663",
   "metadata": {},
   "outputs": [],
   "source": [
    "X_train, X_test, y_train, y_test = train_test_split(X, y, test_size=0.3, random_state=42)"
   ]
  },
  {
   "cell_type": "code",
   "execution_count": null,
   "id": "3f14a30d-2d7f-443d-b882-c34e7c467f47",
   "metadata": {},
   "outputs": [],
   "source": [
    "model.fit(X_train, y_train)"
   ]
  },
  {
   "cell_type": "code",
   "execution_count": null,
   "id": "a2c42c0c-9db3-429f-a868-be8a06eb429f",
   "metadata": {},
   "outputs": [],
   "source": [
    "train_pred = model.predict(X_train)\n",
    "X_train_preds = model.predict(X_train)\n",
    "X_train['prediction'] = X_train_preds"
   ]
  },
  {
   "cell_type": "code",
   "execution_count": null,
   "id": "78dd7acc-858e-4540-92f4-bfa3a22d9d3e",
   "metadata": {},
   "outputs": [],
   "source": [
    "test_pred = model.predict(X_test)\n",
    "X_test_preds = model.predict(X_test)\n",
    "X_test['prediction'] = X_test_preds"
   ]
  },
  {
   "cell_type": "code",
   "execution_count": null,
   "id": "7f7c6c14-5b24-4a12-9ff3-d3449ae24a38",
   "metadata": {},
   "outputs": [],
   "source": [
    "train_mae = mean_absolute_error(y_train, train_pred)\n",
    "print(train_mae)\n",
    "test_mae = mean_absolute_error(y_test,test_pred)\n",
    "print(test_mae)"
   ]
  },
  {
   "cell_type": "code",
   "execution_count": null,
   "id": "6cdae0b3-d127-42f9-a149-2a11dae7b581",
   "metadata": {},
   "outputs": [],
   "source": [
    "with open('models/lin_reg.bin','wb') as f_out:\n",
    "    dump(model,f_out)"
   ]
  },
  {
   "cell_type": "code",
   "execution_count": null,
   "id": "7ee9f1df-06c0-410f-9fec-f55574e6bbef",
   "metadata": {},
   "outputs": [],
   "source": [
    "X_test.to_csv('data/reference.csv')"
   ]
  },
  {
   "cell_type": "markdown",
   "id": "cf03a23c-5927-449a-998e-2be7c606d831",
   "metadata": {},
   "source": [
    "---\n",
    "\n",
    "## Evidently Report"
   ]
  },
  {
   "cell_type": "code",
   "execution_count": null,
   "id": "1d122887-061c-43d1-a497-a34db5cb7d84",
   "metadata": {},
   "outputs": [],
   "source": [
    "column_mapping = ColumnMapping(\n",
    "    target = None,\n",
    "    prediction = 'prediction',\n",
    "    numerical_features = features)"
   ]
  },
  {
   "cell_type": "code",
   "execution_count": null,
   "id": "456f9343-24c6-4242-b2c3-fa07193017f5",
   "metadata": {},
   "outputs": [],
   "source": [
    "report = Report(metrics = [\n",
    "    ColumnDriftMetric(column_name = 'prediction'),\n",
    "    DatasetDriftMetric(),\n",
    "    DatasetMissingValuesMetric()])"
   ]
  },
  {
   "cell_type": "code",
   "execution_count": null,
   "id": "e751cc99-366a-4068-b7e4-e77d8864f10f",
   "metadata": {},
   "outputs": [],
   "source": [
    "report.run(reference_data = X_train,current_data = X_test,column_mapping =column_mapping)"
   ]
  },
  {
   "cell_type": "code",
   "execution_count": null,
   "id": "49e3755b-d847-4b3d-a182-a37928f33edb",
   "metadata": {},
   "outputs": [],
   "source": [
    "report.show('inline')"
   ]
  },
  {
   "cell_type": "code",
   "execution_count": null,
   "id": "14100bf3-891d-42e9-a6aa-3e96788d6b4e",
   "metadata": {},
   "outputs": [],
   "source": [
    "result = report.as_dict()\n",
    "result"
   ]
  },
  {
   "cell_type": "code",
   "execution_count": null,
   "id": "634c70e7-55bb-422f-a43a-6feddfbd2800",
   "metadata": {},
   "outputs": [],
   "source": [
    "# prediction drift\n",
    "result['metrics'][0]['result']['drift_score']"
   ]
  },
  {
   "cell_type": "code",
   "execution_count": null,
   "id": "63b61b5b-8e24-4e84-b34a-4c57abd93d8e",
   "metadata": {},
   "outputs": [],
   "source": [
    "result['metrics'][1]['result']"
   ]
  },
  {
   "cell_type": "markdown",
   "id": "6e7a74c5-3a78-4a24-a654-f6c311a5c0fe",
   "metadata": {},
   "source": [
    "---\n",
    "\n",
    "## Evidently Dashboard"
   ]
  },
  {
   "cell_type": "code",
   "execution_count": null,
   "id": "a93c4031-7f27-47d5-a749-ea2acadd0aa6",
   "metadata": {},
   "outputs": [],
   "source": [
    "from evidently.metric_preset import DataDriftPreset, DataQualityPreset\n",
    "from evidently.ui.workspace import Workspace\n",
    "from evidently.ui.dashboards import DashboardPanelCounter, DashboardPanelPlot, CounterAgg, PanelValue, PlotType,ReportFilter\n",
    "from evidently.renderers.html_widgets import WidgetSize"
   ]
  },
  {
   "cell_type": "code",
   "execution_count": null,
   "id": "bdc9beec-7a9c-44ed-b4ef-c69de9bf0ea1",
   "metadata": {},
   "outputs": [],
   "source": [
    "ws = Workspace('workspace')"
   ]
  },
  {
   "cell_type": "code",
   "execution_count": null,
   "id": "b94c7286-077a-42b9-84e2-2f0272d412f8",
   "metadata": {},
   "outputs": [],
   "source": [
    "project = ws.create_project('Bike Sharing Data Quality Project')\n",
    "project.description = (\n",
    "    'This project aims to improve the data quality of the Bike Sharing dataset. '\n",
    "    'Tasks include data cleaning, handling missing values, outlier detection, '\n",
    "    'and generating data quality reports to enhance dataset reliability for analysis.'\n",
    ")\n",
    "project.save()"
   ]
  },
  {
   "cell_type": "code",
   "execution_count": null,
   "id": "5d9895f6-915f-4d66-8dfc-3140b65bea4e",
   "metadata": {},
   "outputs": [],
   "source": [
    "regular_report = Report(\n",
    "    metrics = [\n",
    "        DataQualityPreset(),\n",
    "        DatasetCorrelationsMetric()\n",
    "    ])\n",
    "regular_report.run(reference_data = None,\n",
    "                   current_data = X_test,\n",
    "                   column_mapping = column_mapping)\n",
    "\n",
    "# Display the report\n",
    "regular_report.show()"
   ]
  },
  {
   "cell_type": "code",
   "execution_count": null,
   "id": "28539b79-d521-4ceb-a4b0-f9f51e396b2a",
   "metadata": {},
   "outputs": [],
   "source": [
    "ws.add_report(project.id, regular_report)"
   ]
  },
  {
   "cell_type": "code",
   "execution_count": null,
   "id": "931e1cb4-2a84-4718-8b8c-98d2fc959560",
   "metadata": {},
   "outputs": [],
   "source": [
    "# configure dashboard\n",
    "project.dashboard.add_panel(\n",
    "    DashboardPanelCounter(\n",
    "    filter = ReportFilter(metadata_values = {}, tag_values = []),\n",
    "        agg = CounterAgg.NONE,\n",
    "        title = 'Bike sharing data dashboard')\n",
    "    )\n",
    "\n",
    "\n",
    "project.dashboard.add_panel(\n",
    "    DashboardPanelPlot(\n",
    "    filter = ReportFilter(metadata_values = {}, tag_values = []),\n",
    "        title = 'Inference Count',\n",
    "        values  = [PanelValue(\n",
    "            metric_id = 'DatasetSummaryMetric',\n",
    "            field_path = 'current.number_of_rows',\n",
    "            legend = 'count'),\n",
    "                  ], \n",
    "        plot_type = PlotType.BAR,\n",
    "        size = WidgetSize.HALF\n",
    "    ),\n",
    "\n",
    "    )\n",
    "\n",
    "\n",
    "project.dashboard.add_panel(\n",
    "    DashboardPanelPlot(\n",
    "    filter = ReportFilter(metadata_values = {}, tag_values = []),\n",
    "        title = 'Number of Missing Values',\n",
    "        values  = [PanelValue(\n",
    "            metric_id = 'DatasetSummaryMetric',\n",
    "            field_path = 'current.number_of_missing_values',\n",
    "            legend = 'count'),\n",
    "                  ], \n",
    "        plot_type = PlotType.LINE,\n",
    "        size = WidgetSize.HALF,\n",
    "    )\n",
    "    )\n",
    "\n",
    "project.save()"
   ]
  },
  {
   "cell_type": "code",
   "execution_count": null,
   "id": "d831970f-5903-47ad-8ae7-a8eae6ae9167",
   "metadata": {},
   "outputs": [],
   "source": []
  }
 ],
 "metadata": {
  "kernelspec": {
   "display_name": "Python 3",
   "language": "python",
   "name": "python3"
  },
  "language_info": {
   "codemirror_mode": {
    "name": "ipython",
    "version": 3
   },
   "file_extension": ".py",
   "mimetype": "text/x-python",
   "name": "python",
   "nbconvert_exporter": "python",
   "pygments_lexer": "ipython3",
   "version": "3.10.9"
  }
 },
 "nbformat": 4,
 "nbformat_minor": 5
}
